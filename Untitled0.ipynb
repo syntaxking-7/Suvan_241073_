{
  "nbformat": 4,
  "nbformat_minor": 0,
  "metadata": {
    "colab": {
      "provenance": []
    },
    "kernelspec": {
      "name": "python3",
      "display_name": "Python 3"
    },
    "language_info": {
      "name": "python"
    }
  },
  "cells": [
    {
      "cell_type": "code",
      "execution_count": 2,
      "metadata": {
        "colab": {
          "base_uri": "https://localhost:8080/"
        },
        "collapsed": true,
        "id": "eBJFJSex-PtI",
        "outputId": "084c3eb8-5d51-48f0-89e8-bbdf1391405c"
      },
      "outputs": [
        {
          "output_type": "stream",
          "name": "stdout",
          "text": [
            "*****\n",
            "****\n",
            "***\n",
            "**\n",
            "*\n"
          ]
        }
      ],
      "source": [
        "i = 5\n",
        "while i >0 :\n",
        "  print(i*'*')\n",
        "  i = i-1"
      ]
    }
  ]
}